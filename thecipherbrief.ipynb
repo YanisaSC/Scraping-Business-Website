{
 "cells": [
  {
   "cell_type": "code",
   "execution_count": null,
   "metadata": {},
   "outputs": [],
   "source": [
    "!pip install requests"
   ]
  },
  {
   "cell_type": "code",
   "execution_count": null,
   "metadata": {},
   "outputs": [],
   "source": [
    "!pip install datetime"
   ]
  },
  {
   "cell_type": "code",
   "execution_count": null,
   "metadata": {},
   "outputs": [],
   "source": [
    "import requests\n",
    "from bs4 import BeautifulSoup, SoupStrainer\n",
    "from PIL import Image\n",
    "import io\n",
    "import re\n",
    "import datetime\n",
    "import time"
   ]
  },
  {
   "cell_type": "code",
   "execution_count": null,
   "metadata": {},
   "outputs": [],
   "source": [
    "web='https://www.thecipherbrief.com/column'"
   ]
  },
  {
   "cell_type": "code",
   "execution_count": null,
   "metadata": {},
   "outputs": [],
   "source": [
    "header={\n",
    "    'User-Agent:Mozilla/5.0 (Windows NT 10.0; WOW64) AppleWebKit/537.36 (KHTML, like Gecko) Chrome/72.0.3626.121 Safari/537.36'}"
   ]
  },
  {
   "cell_type": "code",
   "execution_count": null,
   "metadata": {},
   "outputs": [],
   "source": [
    "r=requests.get(web)"
   ]
  },
  {
   "cell_type": "code",
   "execution_count": null,
   "metadata": {
    "scrolled": true
   },
   "outputs": [],
   "source": [
    "group_link=[]\n",
    "soup=BeautifulSoup(r.content,\"lxml\")\n",
    "group_list=soup.find_all('a',class_='post_link inline')\n",
    "for link in group_list:\n",
    "    group_link.append(\"https://www.thecipherbrief.com\"+link['href'])\n",
    "    time.sleep(0.5)\n",
    "print(len(group_link))"
   ]
  },
  {
   "cell_type": "code",
   "execution_count": null,
   "metadata": {
    "scrolled": false
   },
   "outputs": [],
   "source": [
    "for i in range(2,57):\n",
    "    page = f'https://www.thecipherbrief.com/column/page/{i}'\n",
    "    soup = BeautifulSoup(requests.get(page).content,\"lxml\")\n",
    "    group_list=soup.find_all('a',class_='post_link inline')\n",
    "    for link in group_list:\n",
    "        group_link.append(\"https://www.thecipherbrief.com\"+link['href'])\n",
    "    time.sleep(0.2)\n",
    "print(len(group_link))"
   ]
  },
  {
   "cell_type": "code",
   "execution_count": null,
   "metadata": {},
   "outputs": [],
   "source": [
    "month=[\"January\",\"February\",\"March\",\"April\",\"May\",\"June\",\"July\",\"August\",\"September\",\"October\",\"November\",\"December\"]"
   ]
  },
  {
   "cell_type": "code",
   "execution_count": null,
   "metadata": {
    "scrolled": false
   },
   "outputs": [],
   "source": [
    "test=\"https://www.thecipherbrief.com/column/fine-print/trump-and-the-wizard-of-oz\""
   ]
  },
  {
   "cell_type": "code",
   "execution_count": null,
   "metadata": {
    "scrolled": true
   },
   "outputs": [],
   "source": [
    "data_set=[]\n",
    "for link in group_link:\n",
    "    soup=BeautifulSoup(requests.get(link).content,\"lxml\")\n",
    "    title=soup.find('h1').text\n",
    "    publish_datetime = soup.find('div',class_=\"postmeta\").text\n",
    "    publish_datetime = publish_datetime.split()\n",
    "    publish_datetime = publish_datetime[0]+\" \"+publish_datetime[1]+\" \"+publish_datetime[2]\n",
    "    retrive_datetime = datetime.datetime.now()\n",
    "    source_url = link\n",
    "    content = soup.find('div',class_=\"post_detail_content\").text\n",
    "    data = {\"title\":title,\n",
    "            \"publish_datetime\":publish_datetime,\n",
    "            \"retrive_datetime\":retrive_datetime,\n",
    "            \"source_url\":source_url,\n",
    "            \"content\":content}\n",
    "    data_set.append(data)\n",
    "    time.sleep(0.2)\n",
    "    \n",
    "data_set"
   ]
  },
  {
   "cell_type": "code",
   "execution_count": null,
   "metadata": {},
   "outputs": [],
   "source": [
    "df = pd.DataFrame(data_set)"
   ]
  },
  {
   "cell_type": "code",
   "execution_count": null,
   "metadata": {},
   "outputs": [],
   "source": [
    "df.to_csv('thecipherbrief.csv')"
   ]
  },
  {
   "cell_type": "code",
   "execution_count": null,
   "metadata": {},
   "outputs": [],
   "source": [
    "#content ตัด \\n\n",
    "#content = soup.find('div',class_=\"post_detail_content\")\n",
    "#content\n",
    "#a=\"\"\n",
    "#for text in content.find_all(\"p\"):\n",
    "#    a=a+text.text+\" \"\n",
    "#print(a)"
   ]
  }
 ],
 "metadata": {
  "kernelspec": {
   "display_name": "Python 3",
   "language": "python",
   "name": "python3"
  },
  "language_info": {
   "codemirror_mode": {
    "name": "ipython",
    "version": 3
   },
   "file_extension": ".py",
   "mimetype": "text/x-python",
   "name": "python",
   "nbconvert_exporter": "python",
   "pygments_lexer": "ipython3",
   "version": "3.8.3"
  }
 },
 "nbformat": 4,
 "nbformat_minor": 5
}
